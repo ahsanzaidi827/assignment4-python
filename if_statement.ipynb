{
  "nbformat": 4,
  "nbformat_minor": 0,
  "metadata": {
    "colab": {
      "provenance": [],
      "authorship_tag": "ABX9TyOz9tlz1Gfo/aVAotVybM8K",
      "include_colab_link": true
    },
    "kernelspec": {
      "name": "python3",
      "display_name": "Python 3"
    },
    "language_info": {
      "name": "python"
    }
  },
  "cells": [
    {
      "cell_type": "markdown",
      "metadata": {
        "id": "view-in-github",
        "colab_type": "text"
      },
      "source": [
        "<a href=\"https://colab.research.google.com/github/ahsanzaidi827/assignment4-python/blob/main/if_statement.ipynb\" target=\"_parent\"><img src=\"https://colab.research.google.com/assets/colab-badge.svg\" alt=\"Open In Colab\"/></a>"
      ]
    },
    {
      "cell_type": "code",
      "execution_count": null,
      "metadata": {
        "colab": {
          "base_uri": "https://localhost:8080/"
        },
        "id": "RZq1pZ1F_RZr",
        "outputId": "0d739fef-c61c-4468-d3bf-01e31f7ae2a2"
      },
      "outputs": [
        {
          "output_type": "stream",
          "name": "stdout",
          "text": [
            "Here is 20 even number: 0\n",
            "Here is 20 even number: 2\n",
            "Here is 20 even number: 4\n",
            "Here is 20 even number: 6\n",
            "Here is 20 even number: 8\n",
            "Here is 20 even number: 10\n",
            "Here is 20 even number: 12\n",
            "Here is 20 even number: 14\n",
            "Here is 20 even number: 16\n",
            "Here is 20 even number: 18\n",
            "Here is 20 even number: 20\n",
            "Here is 20 even number: 22\n",
            "Here is 20 even number: 24\n",
            "Here is 20 even number: 26\n",
            "Here is 20 even number: 28\n",
            "Here is 20 even number: 30\n",
            "Here is 20 even number: 32\n",
            "Here is 20 even number: 34\n",
            "Here is 20 even number: 36\n",
            "Here is 20 even number: 38\n",
            "Here is 20 even number: 40\n",
            "Here is 20 even number: 42\n",
            "Here is 20 even number: 44\n",
            "Here is 20 even number: 46\n",
            "Here is 20 even number: 48\n",
            "Here is 20 even number: 50\n",
            "Here is 20 even number: 52\n",
            "Here is 20 even number: 54\n",
            "Here is 20 even number: 56\n",
            "Here is 20 even number: 58\n",
            "Here is 20 even number: 60\n",
            "Here is 20 even number: 62\n",
            "Here is 20 even number: 64\n",
            "Here is 20 even number: 66\n",
            "Here is 20 even number: 68\n",
            "Here is 20 even number: 70\n",
            "Here is 20 even number: 72\n",
            "Here is 20 even number: 74\n",
            "Here is 20 even number: 76\n",
            "Here is 20 even number: 78\n"
          ]
        }
      ],
      "source": [
        "#prints events\n",
        "\n",
        "def even ():\n",
        "  for i in range(40):\n",
        "    even:int = i*2\n",
        "    print(f\"Here is 20 even number: {even}\")\n",
        "\n",
        "if __name__ == \"__main__\":\n",
        "  even()"
      ]
    },
    {
      "cell_type": "code",
      "source": [
        "#international voting age\n",
        "\n",
        "Peturksbouipo:int = 16\n",
        "Stanlau:int = 25\n",
        "Mayengua:int =48\n",
        "\n",
        "def main():\n",
        "  age:int = int(input(\"How old are you \"))\n",
        "\n",
        "  if age >= Peturksbouipo:\n",
        "    print(\"You are eligible to vote in Peturksbouipo\")\n",
        "  else:\n",
        "    print(\"You are not eligible to vote Peturksbouipo\")\n",
        "\n",
        "  if age >= Stanlau:\n",
        "    print(\"You are eligible to vote in Stanlau\")\n",
        "  else:\n",
        "    print(\"You are not eligible to vote Stanlau\")\n",
        "\n",
        "  if age >= Mayengua:\n",
        "    print(\"You are eligible to vote in Mayengua\")\n",
        "  else:\n",
        "    print(\"You are not eligible to vote Mayengua\")\n",
        "\n",
        "if __name__ == \"__main__\": #Type guard\n",
        "  main()"
      ],
      "metadata": {
        "colab": {
          "base_uri": "https://localhost:8080/"
        },
        "id": "pR_IXlPvAaUj",
        "outputId": "b0beb80e-bf76-4ba5-ad53-c0197e9b888d"
      },
      "execution_count": null,
      "outputs": [
        {
          "output_type": "stream",
          "name": "stdout",
          "text": [
            "How old are you 45\n",
            "You are eligible to vote in Peturksbouipo\n",
            "You are eligible to vote in Stanlau\n",
            "You are not eligible to vote Mayengua\n"
          ]
        }
      ]
    },
    {
      "cell_type": "code",
      "source": [
        "#leap year\n",
        "\n",
        "def main():\n",
        "  year:int = int(input(\"Enter a year: \"))\n",
        "  if (year % 4) == 0:\n",
        "    if (year % 100) == 0:\n",
        "      if (year % 400) == 0:\n",
        "        print(f\"{year} is a leap year\")\n",
        "      else:\n",
        "        print(f\"{year} is not a leap year\")\n",
        "    else:\n",
        "      print(f\"{year} is a leap year\")\n",
        "  else:\n",
        "    print(f\"{year} is not a leap year\")\n",
        "\n",
        "if __name__ == \"__main__\":\n",
        "  main()"
      ],
      "metadata": {
        "colab": {
          "base_uri": "https://localhost:8080/"
        },
        "id": "caoO5lyOEJ8a",
        "outputId": "95f09844-03e7-4242-f8c0-36fc9802a19a"
      },
      "execution_count": null,
      "outputs": [
        {
          "output_type": "stream",
          "name": "stdout",
          "text": [
            "Enter a year: 2035\n",
            "2035 is not a leap year\n"
          ]
        }
      ]
    },
    {
      "cell_type": "code",
      "source": [
        "# tall enough to ride\n",
        "\n",
        "height = 50\n",
        "\n",
        "def main ():\n",
        "  user:int = int(input(\"How tall are you?\"))\n",
        "\n",
        "  if user >= height:\n",
        "    print(\"You are tall enough to ride\")\n",
        "  else:\n",
        "    print(\"You are not tall enough to ride\")\n",
        "\n",
        "if __name__ == \"__main__\":\n",
        "  main()\n"
      ],
      "metadata": {
        "id": "FaCfyhehFR_g",
        "colab": {
          "base_uri": "https://localhost:8080/"
        },
        "outputId": "61912a99-eeef-4c19-ba0c-77975b4f8b43"
      },
      "execution_count": 8,
      "outputs": [
        {
          "output_type": "stream",
          "name": "stdout",
          "text": [
            "How tall are you?35\n",
            "You are not tall enough to ride\n"
          ]
        }
      ]
    },
    {
      "cell_type": "code",
      "source": [
        "\n",
        "# random numbers\n",
        "\n",
        "import random # we use for random numbers\n",
        "\n",
        "\n",
        "def main():\n",
        "  for i in range(10):\n",
        "    number:list[int] = random.randint(1, 50) #generate random 1 to 50\n",
        "    print(number)\n",
        "\n",
        "if __name__ == \"__main__\":\n",
        "  main()\n"
      ],
      "metadata": {
        "id": "3yss5xk1Gkcz",
        "colab": {
          "base_uri": "https://localhost:8080/"
        },
        "outputId": "f8ebc12d-0f50-4df3-8e30-52fedce51afe"
      },
      "execution_count": 10,
      "outputs": [
        {
          "output_type": "stream",
          "name": "stdout",
          "text": [
            "15\n",
            "32\n",
            "9\n",
            "8\n",
            "9\n",
            "47\n",
            "33\n",
            "8\n",
            "26\n",
            "15\n"
          ]
        }
      ]
    }
  ]
}