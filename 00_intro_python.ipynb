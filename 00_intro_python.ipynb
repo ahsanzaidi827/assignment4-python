{
  "nbformat": 4,
  "nbformat_minor": 0,
  "metadata": {
    "colab": {
      "provenance": [],
      "authorship_tag": "ABX9TyMbOfV4kMTcGZ99vUDQWB7i",
      "include_colab_link": true
    },
    "kernelspec": {
      "name": "python3",
      "display_name": "Python 3"
    },
    "language_info": {
      "name": "python"
    }
  },
  "cells": [
    {
      "cell_type": "markdown",
      "metadata": {
        "id": "view-in-github",
        "colab_type": "text"
      },
      "source": [
        "<a href=\"https://colab.research.google.com/github/ahsanzaidi827/assignment4-python/blob/main/00_intro_python.ipynb\" target=\"_parent\"><img src=\"https://colab.research.google.com/assets/colab-badge.svg\" alt=\"Open In Colab\"/></a>"
      ]
    },
    {
      "cell_type": "code",
      "execution_count": 9,
      "metadata": {
        "colab": {
          "base_uri": "https://localhost:8080/"
        },
        "id": "LXh2eKK7rAeb",
        "outputId": "a8c4aa58-8576-4580-a230-01d59a0920af"
      },
      "outputs": [
        {
          "output_type": "stream",
          "name": "stdout",
          "text": [
            "Enter first number:100\n",
            "Enter second number:100\n",
            "The sum of two number is 200\n"
          ]
        }
      ],
      "source": [
        "\n",
        "#Add two numbers\n",
        "\n",
        "def addtwonumbers():\n",
        "  first_num = int(input(\"Enter first number: \"))\n",
        "  second_num = int(input(\"Enter second number: \"))\n",
        "  sum_up = int(first_num + second_num)\n",
        "  print(\"The sum of two number is\" , sum_up)\n",
        "\n",
        "if __name__ == \"__main__\":  #Type guard\n",
        "    addtwonumbers()\n",
        "\n",
        "\n",
        "\n",
        "\n"
      ]
    },
    {
      "cell_type": "code",
      "source": [
        "#Agrement bot\n",
        "\n",
        "def bot ():\n",
        "  fav_animal = str(input(\"Whats your favorite animal? \"))\n",
        "  print(\"My favourite animal is also\" , fav_animal)\n",
        "\n",
        "if __name__ == \"__main__\":  #Type guard\n",
        "    bot()\n",
        "\n"
      ],
      "metadata": {
        "id": "1VXvoX_Ixr2L"
      },
      "execution_count": null,
      "outputs": []
    },
    {
      "cell_type": "code",
      "source": [
        "#fahrenheit_to_celsius\n",
        "\n",
        "def fahrenheit_to_celsius():\n",
        "\n",
        "  temperature = float(input(\"Enter the temperature in Fahrenheit: \"))\n",
        "  celsius = (temperature - 32) * 5.0/9.0\n",
        "  print(f\"Temperature {temperature} = {celsius}C\")\n",
        "\n",
        "if __name__ == \"__main__\":  #Type guard\n",
        "    fahrenheit_to_celsius()\n"
      ],
      "metadata": {
        "id": "ZgBWF95N0-pJ"
      },
      "execution_count": null,
      "outputs": []
    },
    {
      "cell_type": "code",
      "source": [
        "#How old are they\n",
        "def how_old_are_they():\n",
        "  Anthon  = 21\n",
        "  Beth = Anthon + 6\n",
        "  Chen = Beth + 20\n",
        "  Drew = Chen + Anthon\n",
        "  Ethan = Chen\n",
        "  print(f\"Anthon is {Anthon} years old\")\n",
        "  print(f\"Beth is {Beth} years old\")\n",
        "  print(f\"Chen is {Chen} years old\")\n",
        "  print(f\"Drew is {Drew} years old\")\n",
        "\n",
        "\n",
        "if __name__ == \"__main__\":  #Type guard\n",
        "    how_old_are_they()\n",
        "\n",
        ""
      ],
      "metadata": {
        "colab": {
          "base_uri": "https://localhost:8080/"
        },
        "id": "Bqaq31waN99f",
        "outputId": "1e94bc2c-3cbd-4b03-cc22-f1db077c4f47"
      },
      "execution_count": 7,
      "outputs": [
        {
          "output_type": "stream",
          "name": "stdout",
          "text": [
            "Anthon is str21 years old\n",
            "Beth is 27 years old\n",
            "Chen is 47 years old\n",
            "Drew is 68 years old\n"
          ]
        }
      ]
    },
    {
      "cell_type": "code",
      "source": [
        "#triangle parameter\n",
        "\n",
        "def main():\n",
        "    side1: float = float(input(\"What is the length of side 1? \"))\n",
        "    side2: float = float(input(\"What is the length of side 2? \"))\n",
        "    side3: float = float(input(\"What is the length of side 3? \"))\n",
        "    sum_length = (side1 + side2 + side3)\n",
        "\n",
        "    print(\"The perimeter of the triangle is \" + str(sum_length))\n",
        "\n",
        "if __name__ == '__main__':\n",
        "    main()"
      ],
      "metadata": {
        "colab": {
          "base_uri": "https://localhost:8080/"
        },
        "id": "3gWpkaIBR9NI",
        "outputId": "45824ad7-e46f-4354-f752-f23ea4cc181b"
      },
      "execution_count": 11,
      "outputs": [
        {
          "output_type": "stream",
          "name": "stdout",
          "text": [
            "What is the length of side 1? 23\n",
            "What is the length of side 2? 23\n",
            "What is the length of side 3? 4\n",
            "The perimeter of the triangle is 50.0\n"
          ]
        }
      ]
    },
    {
      "cell_type": "code",
      "source": [
        "#sqaured number\n",
        "\n",
        "def square_num():\n",
        "  usernum = float(input(\"Type a number to see its square \"))\n",
        "  squared = float(usernum * usernum)\n",
        "  print(f\"the sqaure of {usernum} is {squared}\")\n",
        "\n",
        "if __name__ == \"__main__\":  #Type guard\n",
        "    square_num()"
      ],
      "metadata": {
        "colab": {
          "base_uri": "https://localhost:8080/"
        },
        "id": "CjEaMcg2bniQ",
        "outputId": "266de584-3178-408c-aacd-647627cc0742"
      },
      "execution_count": 1,
      "outputs": [
        {
          "output_type": "stream",
          "name": "stdout",
          "text": [
            "Type a number to see its square 12\n",
            "the sqaure of 12.0 is 144.0\n"
          ]
        }
      ]
    }
  ]
}