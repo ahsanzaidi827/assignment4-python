{
  "nbformat": 4,
  "nbformat_minor": 0,
  "metadata": {
    "colab": {
      "provenance": [],
      "authorship_tag": "ABX9TyNFk1h4eTWBvkHmLFrZ6Zar",
      "include_colab_link": true
    },
    "kernelspec": {
      "name": "python3",
      "display_name": "Python 3"
    },
    "language_info": {
      "name": "python"
    }
  },
  "cells": [
    {
      "cell_type": "markdown",
      "metadata": {
        "id": "view-in-github",
        "colab_type": "text"
      },
      "source": [
        "<a href=\"https://colab.research.google.com/github/ahsanzaidi827/assignment4-python/blob/main/expression.ipynb\" target=\"_parent\"><img src=\"https://colab.research.google.com/assets/colab-badge.svg\" alt=\"Open In Colab\"/></a>"
      ]
    },
    {
      "cell_type": "code",
      "execution_count": null,
      "metadata": {
        "id": "Y2oyiVYDB8Yb",
        "colab": {
          "base_uri": "https://localhost:8080/"
        },
        "outputId": "962c16f7-5a2e-44e3-c1e9-f711b030dfdf"
      },
      "outputs": [
        {
          "output_type": "stream",
          "name": "stdout",
          "text": [
            "5\n",
            "1\n",
            "The sum of two dice is 6\n",
            "1\n",
            "5\n",
            "The sum of two dice is 6\n",
            "6\n",
            "4\n",
            "The sum of two dice is 10\n",
            "The value of dice in main() is10\n"
          ]
        }
      ],
      "source": [
        "#_dicesimulator\n",
        "\n",
        "import random  #random number generate krwane k liye ek module hota ha\n",
        "\n",
        "def rolldice():\n",
        "  dice1:int = random.randint(1,6)#relate to this ek random number generate hoga 1 to 6\n",
        "  dice2:int = random.randint(1,6)\n",
        "  sumupdice:int = (dice1 + dice2)\n",
        "  print(dice1)\n",
        "  print(dice2)\n",
        "  print(f\"The sum of two dice is {sumupdice}\")\n",
        "\n",
        "\n",
        "\n",
        "def main():\n",
        "\n",
        "  rolldice()\n",
        "  rolldice()\n",
        "  rolldice()\n",
        "  dice1:int = 10\n",
        "  print (\"The value of dice in main() is\" + str(dice1))\n",
        "\n",
        "\n",
        "if __name__ == \"__main__\":\n",
        "  main()\n",
        "\n",
        "  #print (dice1) mein yaha isko print nh krskta qk out of block ha\n",
        "\n"
      ]
    },
    {
      "cell_type": "code",
      "source": [],
      "metadata": {
        "id": "t2lsozo7_VcO"
      },
      "execution_count": null,
      "outputs": []
    },
    {
      "cell_type": "code",
      "source": [
        "#e=mc2\n",
        "def main():\n",
        "    C: int = 299792458\n",
        "    mass: float = float(input(\"Enter kilos of mass: \"))\n",
        "    energy_in_joules: float = mass * (C ** 2)\n",
        "    print(\"e = m * C^2\")\n",
        "    print(\"m = \" + str(mass) + \" kg\")\n",
        "    print(\"C = \" + str(C) + \" m/s\")\n",
        "\n",
        "    print(str(energy_in_joules) + \" joules of energy!\")\n",
        "\n",
        "if __name__ == '__main__':  #type guard\n",
        "    main()\n"
      ],
      "metadata": {
        "colab": {
          "base_uri": "https://localhost:8080/"
        },
        "id": "-RXQ6BLyJrlW",
        "outputId": "5be5a365-6f63-4106-ac24-6ba906d7ced5"
      },
      "execution_count": null,
      "outputs": [
        {
          "output_type": "stream",
          "name": "stdout",
          "text": [
            "Enter kilos of mass: 10\n",
            "e = m * C^2\n",
            "m = 10.0 kg\n",
            "C = 299792458 m/s\n",
            "8.987551787368177e+17 joules of energy!\n"
          ]
        }
      ]
    },
    {
      "cell_type": "code",
      "source": [
        "#feet to inches\n",
        "\n",
        "def feet():\n",
        "  inches:int =12\n",
        "  feet:int = float(input(\"Enter your feet: \"))\n",
        "  feet_to_inche = int(feet * inches)\n",
        "  print (f\"Your feet is {feet}\" )\n",
        "  print(f\"Your conversion of feet into inches is {feet_to_inche}\" )\n",
        "\n",
        "if __name__ == '__main__':  #type guard\n",
        "    feet()\n",
        "\n"
      ],
      "metadata": {
        "id": "dvVfJC3QUVxb",
        "colab": {
          "base_uri": "https://localhost:8080/"
        },
        "outputId": "8ede6e25-1315-4ec5-8f1f-01cf3873e2c9"
      },
      "execution_count": null,
      "outputs": [
        {
          "output_type": "stream",
          "name": "stdout",
          "text": [
            "Enter your feet: 5.2\n",
            "Your feet is 5.2\n",
            "Your conversion of feet into inches is 62\n"
          ]
        }
      ]
    },
    {
      "cell_type": "code",
      "source": [
        "#pythagorean_theorem\n",
        "\n",
        "import math #with this module we use math.sqrt for square root formula\n",
        "\n",
        "def pythagorean_theorem():\n",
        "  input_for_ab:float = float(input(\"Enter the value for AB: \"))\n",
        "  input_for_ac:float = float(input(\"Enter the value for AC: \"))\n",
        "\n",
        "  #now we use math.sqrt for calculating formula square root\n",
        "  length_of_bc:float = math.sqrt(input_for_ab**2 + input_for_ac**2)\n",
        "  print(f\"The length of (the hypotenuse) is {length_of_bc}\")\n",
        "\n",
        "if __name__ == '__main__':  #type guard\n",
        "    pythagorean_theorem()\n"
      ],
      "metadata": {
        "colab": {
          "base_uri": "https://localhost:8080/"
        },
        "id": "1I2PvJDW_Xoz",
        "outputId": "b1104779-ecb6-4e66-f618-aea1374a79ae"
      },
      "execution_count": 9,
      "outputs": [
        {
          "output_type": "stream",
          "name": "stdout",
          "text": [
            "Enter the value for AB: 12\n",
            "Enter the value for AC: 12\n",
            "The length of (the hypotenuse) is 16.97056274847714\n"
          ]
        }
      ]
    },
    {
      "cell_type": "code",
      "source": [
        "#remainder_division\n",
        "\n",
        "def main():\n",
        "    dividend: int = int(input(\"Please enter an integer to be divided: \"))\n",
        "    divisor: int = int(input(\"Please enter an integer to divide by: \"))\n",
        "\n",
        "    quotient: int = dividend // divisor\n",
        "    remainder: int = dividend % divisor\n",
        "\n",
        "    print(f\"The result of this division is {quotient} with a remainder of {remainder}\")\n",
        "\n",
        "if __name__ == '__main__':\n",
        "    main()\n"
      ],
      "metadata": {
        "id": "aZxu1CQWDRIh",
        "colab": {
          "base_uri": "https://localhost:8080/"
        },
        "outputId": "8564a4af-43b9-4aed-b1a7-b862fa4907c5"
      },
      "execution_count": 10,
      "outputs": [
        {
          "output_type": "stream",
          "name": "stdout",
          "text": [
            "Please enter an integer to be divided: 12\n",
            "Please enter an integer to divide by: 2\n",
            "The result of this division is 6 with a remainder of 0\n"
          ]
        }
      ]
    },
    {
      "cell_type": "code",
      "source": [
        "#rolldice\n",
        "\n",
        "import random\n",
        "\n",
        "def dice():\n",
        "  dice1:int = random.randint(1,6)\n",
        "  dice2:int = random.randint(1,6)\n",
        "  sumupdice:int = (dice1 + dice2)\n",
        "  print(f\"first die: {dice1}\")\n",
        "  print(f\"second die: {dice2}\")\n",
        "  print(f\"The sum of two dice is {sumupdice}\")\n",
        "\n",
        "if __name__ == '__main__':\n",
        "    dice()\n",
        "\n",
        "\n",
        "\n"
      ],
      "metadata": {
        "colab": {
          "base_uri": "https://localhost:8080/"
        },
        "id": "Bt9eNQGFMCaN",
        "outputId": "2ffaf62e-a185-4c25-f763-849687a816cf"
      },
      "execution_count": 4,
      "outputs": [
        {
          "output_type": "stream",
          "name": "stdout",
          "text": [
            "first die: 4\n",
            "second die: 4\n",
            "The sum of two dice is 8\n"
          ]
        }
      ]
    },
    {
      "cell_type": "code",
      "source": [
        "#seconds_in_year.\n",
        "\n",
        "def main ():\n",
        "\n",
        " days_in_year:int = 365\n",
        " hours_in_day:int = 24\n",
        " minutes_in_hour:int = 60\n",
        " seconds_in_minute:int = 60\n",
        "\n",
        " print(f\"There are {days_in_year} in a year, {hours_in_day} hours in a day, {minutes_in_hour} minutes in an hour and {seconds_in_minute} seconds per minutes\")\n",
        "\n",
        "if __name__ == '__main__':\n",
        "    main()\n",
        "\n",
        "\n"
      ],
      "metadata": {
        "colab": {
          "base_uri": "https://localhost:8080/"
        },
        "id": "ZE5_GV-ez3UA",
        "outputId": "84a8af65-765b-49aa-e339-1b1e06183663"
      },
      "execution_count": 6,
      "outputs": [
        {
          "output_type": "stream",
          "name": "stdout",
          "text": [
            "There are 365 in a year, 24 hours in a day, 60 minutes in an hour and 60 seconds per minutes,\n"
          ]
        }
      ]
    },
    {
      "cell_type": "code",
      "source": [
        "#tiny-mad-lib\n",
        "\n",
        "def tiny_mad_lib():\n",
        "  noun:str = str(input(\"Enter a noun: \"))\n",
        "  verb:str = str(input(\"Enter a verb: \"))\n",
        "  adjective:str = str(input(\"Enter an adjective: \"))\n",
        "\n",
        "  print(f\" Aww! Your {noun} is so {adjective} and still {verb} with you?\")\n",
        "\n",
        "if __name__ == '__main__':\n",
        "    tiny_mad_lib()\n",
        "\n"
      ],
      "metadata": {
        "colab": {
          "base_uri": "https://localhost:8080/"
        },
        "id": "7ey9abu21fSd",
        "outputId": "3663008b-dc58-4326-ca5e-5757a9cb32c4"
      },
      "execution_count": 11,
      "outputs": [
        {
          "output_type": "stream",
          "name": "stdout",
          "text": [
            "Enter a noun: puppy\n",
            "Enter a verb: playing\n",
            "Enter an adjective: cute\n",
            " Aww! Your puppy is so cute and still playing with you?\n"
          ]
        }
      ]
    },
    {
      "cell_type": "markdown",
      "source": [],
      "metadata": {
        "id": "5Jakb_jB_x0y"
      }
    }
  ]
}