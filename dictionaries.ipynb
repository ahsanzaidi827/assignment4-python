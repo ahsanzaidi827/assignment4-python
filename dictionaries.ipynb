{
  "nbformat": 4,
  "nbformat_minor": 0,
  "metadata": {
    "colab": {
      "provenance": [],
      "authorship_tag": "ABX9TyO04aBX/WMV4T9P0CoB2E6g",
      "include_colab_link": true
    },
    "kernelspec": {
      "name": "python3",
      "display_name": "Python 3"
    },
    "language_info": {
      "name": "python"
    }
  },
  "cells": [
    {
      "cell_type": "markdown",
      "metadata": {
        "id": "view-in-github",
        "colab_type": "text"
      },
      "source": [
        "<a href=\"https://colab.research.google.com/github/ahsanzaidi827/assignment4-python/blob/main/dictionaries.ipynb\" target=\"_parent\"><img src=\"https://colab.research.google.com/assets/colab-badge.svg\" alt=\"Open In Colab\"/></a>"
      ]
    },
    {
      "cell_type": "code",
      "execution_count": null,
      "metadata": {
        "colab": {
          "base_uri": "https://localhost:8080/"
        },
        "id": "Y-Mf_y_OWBKh",
        "outputId": "9dac9b74-5a41-49f5-a46d-55c6dcfbb2a8"
      },
      "outputs": [
        {
          "output_type": "stream",
          "name": "stdout",
          "text": [
            "Enter a number: 12\n",
            "Enter a number: 13\n",
            "Enter a number: 17\n",
            "Enter a number: 20\n",
            "Enter a number: \n",
            "12 appears 1 times.\n",
            "13 appears 1 times.\n",
            "17 appears 1 times.\n",
            "20 appears 1 times.\n"
          ]
        }
      ],
      "source": [
        "# counts numbers\n",
        "\n",
        "def getting_user_numbers():\n",
        "\n",
        "    user_numbers = []\n",
        "    while True:\n",
        "        user_input = input(\"Enter a number: \")\n",
        "\n",
        "        if user_input == \"\":\n",
        "            break\n",
        "\n",
        "        num = int(user_input)\n",
        "        user_numbers.append(num) #add to the list\n",
        "\n",
        "    return user_numbers\n",
        "\n",
        "def count_nums(num_lst):\n",
        "\n",
        "    num_dict = {}\n",
        "    for num in num_lst:\n",
        "        if num not in num_dict:\n",
        "            num_dict[num] = 1\n",
        "        else:\n",
        "            num_dict[num] += 1\n",
        "\n",
        "    return num_dict\n",
        "\n",
        "\n",
        "def print_counts(num_dict):\n",
        "    for num in num_dict:\n",
        "        print(str(num) + \" appears \" + str(num_dict[num]) + \" times.\")\n",
        "\n",
        "\n",
        "def main():\n",
        "    user_numbers = getting_user_numbers()\n",
        "    num_dict = count_nums(user_numbers)\n",
        "    print_counts(num_dict)\n",
        "\n",
        "\n",
        "if __name__ == '__main__': #tyep guard\n",
        "    main()"
      ]
    },
    {
      "cell_type": "code",
      "source": [
        "#phonebook\n",
        "\n",
        "def read_phone_numbers():\n",
        "    phonebook = {}\n",
        "\n",
        "    while True:\n",
        "        name = input(\"Name: \")\n",
        "        if name == \"\":\n",
        "            break\n",
        "        number = input(\"Number: \")\n",
        "        phonebook[name] = number\n",
        "\n",
        "    return phonebook\n",
        "\n",
        "\n",
        "def print_phonebook(phonebook):\n",
        "    for name in phonebook:\n",
        "        print(str(name) + \" -> \" + str(phonebook[name]))\n",
        "\n",
        "\n",
        "def lookup_numbers(phonebook):\n",
        "    while True:\n",
        "        name = input(\"Enter name to lookup: \")\n",
        "        if name == \"\":\n",
        "            break\n",
        "        if name not in phonebook:\n",
        "            print(name + \" is not in the phonebook\")\n",
        "        else:\n",
        "            print(phonebook[name])\n",
        "\n",
        "\n",
        "def main():\n",
        "    phonebook = read_phone_numbers()\n",
        "    print_phonebook(phonebook)\n",
        "    lookup_numbers(phonebook)\n",
        "\n",
        "if __name__ == '__main__':\n",
        "    main()"
      ],
      "metadata": {
        "colab": {
          "base_uri": "https://localhost:8080/"
        },
        "id": "65Rrziz8W0of",
        "outputId": "90244c66-6875-433d-c624-c66608b0663e"
      },
      "execution_count": null,
      "outputs": [
        {
          "name": "stdout",
          "output_type": "stream",
          "text": [
            "Name: Elon \n",
            "Number: 01111\n",
            "Name: Musk\n",
            "Number: 000000\n",
            "Name: \n",
            "Elon  -> 01111\n",
            "Musk -> 000000\n",
            "Enter name to lookup: Musk\n",
            "000000\n",
            "Enter name to lookup: Elon\n",
            "Elon is not in the phonebook\n",
            "Enter name to lookup: \n"
          ]
        }
      ]
    },
    {
      "cell_type": "code",
      "source": [
        "# pop up shop\n",
        "\n",
        "def calculate_total_cost():\n",
        "\n",
        "  fruits_price = {\n",
        "      \"orange\": 5.0,\n",
        "      \"mango\":15.0,\n",
        "      \"banana\": 7.0\n",
        "  }\n",
        "\n",
        "  total_cost= 0\n",
        "\n",
        "  for fruits,price in fruits_price.items():\n",
        "    while True:\n",
        "      try:\n",
        "        quantity = int(input(f\"How many {fruits} do you want?\"))\n",
        "        if quantity < 0:\n",
        "          print(\"Invalid input\")\n",
        "          continue\n",
        "          total_cost += price * quantity\n",
        "          break\n",
        "\n",
        "      except ValueError:\n",
        "          print(\"Invalid Input\")\n",
        "\n",
        "    print(f\"\\n Total cost: ${total_cost:.2f}\")\n",
        "\n",
        "if __name__ == '__main__':\n",
        "  calculate_total_cost()\n",
        "\n"
      ],
      "metadata": {
        "colab": {
          "base_uri": "https://localhost:8080/"
        },
        "id": "sfKKFOak2wFF",
        "outputId": "25fab730-2c8e-4237-9360-2f2490c250f4"
      },
      "execution_count": null,
      "outputs": [
        {
          "metadata": {
            "tags": null
          },
          "name": "stdout",
          "output_type": "stream",
          "text": [
            "Invalid Input\n"
          ]
        }
      ]
    },
    {
      "cell_type": "code",
      "source": [
        "# powerful password\n",
        "\n",
        "import hashlib\n",
        "\n",
        "def powerful_password(password):\n",
        "  return hashlib.sha256(password.encode()).hexdigest()\n",
        "\n",
        "\n",
        "stored_login = {\n",
        "    \"user@example\": powerful_password(\"password123\"),\n",
        "    \"admin@example\": powerful_password(\"admin123\")\n",
        "}\n",
        "\n",
        "def login(email , password):\n",
        "\n",
        "  #authentication\n",
        "  if email in stored_login:\n",
        "    return stored_login[email] == powerful_password(password)\n",
        "\n",
        "  return False\n",
        "\n",
        "if __name__ == \"__main__\":\n",
        "\n",
        "  email = input(\"Enter your email: \")\n",
        "  password = input(\"Enter your password: \")\n",
        "\n",
        "  if login(email,password):\n",
        "    print(\"Login successful\")\n",
        "  else:\n",
        "    print(\"Login failed\")\n",
        "\n",
        "\n",
        "\n",
        "\n",
        "\n",
        "\n",
        "\n",
        "\n",
        "\n",
        "\n",
        "\n",
        "\n",
        "\n",
        "\n",
        "\n",
        "\n",
        "\n",
        "\n",
        "\n",
        "\n"
      ],
      "metadata": {
        "colab": {
          "base_uri": "https://localhost:8080/"
        },
        "id": "yU9psMM64nvl",
        "outputId": "a2cab506-d3ab-4a63-f8a7-73e1c3bdd9d6"
      },
      "execution_count": 1,
      "outputs": [
        {
          "output_type": "stream",
          "name": "stdout",
          "text": [
            "Enter your email: user@example\n",
            "Enter your password: password123\n",
            "Login successful\n"
          ]
        }
      ]
    }
  ]
}