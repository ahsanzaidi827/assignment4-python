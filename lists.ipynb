{
  "cells": [
    {
      "cell_type": "markdown",
      "metadata": {
        "id": "view-in-github",
        "colab_type": "text"
      },
      "source": [
        "<a href=\"https://colab.research.google.com/github/ahsanzaidi827/assignment4-python/blob/main/lists.ipynb\" target=\"_parent\"><img src=\"https://colab.research.google.com/assets/colab-badge.svg\" alt=\"Open In Colab\"/></a>"
      ]
    },
    {
      "cell_type": "code",
      "execution_count": null,
      "metadata": {
        "colab": {
          "base_uri": "https://localhost:8080/"
        },
        "id": "-jaCTkT_Q77F",
        "outputId": "3df334b0-0e3f-4a6c-e02c-d70712c5a05f"
      },
      "outputs": [
        {
          "name": "stdout",
          "output_type": "stream",
          "text": [
            "15\n"
          ]
        }
      ],
      "source": [
        "#add_many_number\n",
        "\n",
        "def add_many_number(numbers)->int: #ye ek int return karega\n",
        "  num:int =0\n",
        "  for i in numbers:\n",
        "    num += i\n",
        "  return num\n",
        "\n",
        "def main():\n",
        "  numbers:list[int] = [1,2,3,4,5]\n",
        "  sum = add_many_number(numbers)\n",
        "  print(sum)\n",
        "\n",
        "if __name__ == \"__main__\":\n",
        "  main()\n",
        "\n",
        "\n",
        "\n"
      ]
    },
    {
      "cell_type": "code",
      "execution_count": null,
      "metadata": {
        "colab": {
          "base_uri": "https://localhost:8080/"
        },
        "id": "inBATrQKfQls",
        "outputId": "7a325096-5b76-4d82-ff07-299a85ab96a1"
      },
      "outputs": [
        {
          "name": "stdout",
          "output_type": "stream",
          "text": [
            "[2, 4, 6, 8, 10]\n"
          ]
        }
      ],
      "source": [
        "#double list\n",
        "\n",
        "def main():\n",
        "  numbers:list[int] = [1,2,3,4,5]\n",
        "  double_numbers:list[int] = []\n",
        "  for i in numbers:\n",
        "    double_numbers.append(i*2)\n",
        "  return double_numbers\n",
        "\n",
        "if __name__ == \"__main__\":\n",
        "  print(main())\n"
      ]
    },
    {
      "cell_type": "code",
      "execution_count": null,
      "metadata": {
        "colab": {
          "base_uri": "https://localhost:8080/"
        },
        "id": "lvxTFzldhivR",
        "outputId": "23b5af46-d8c1-4b3d-d333-22b49a83046d"
      },
      "outputs": [
        {
          "name": "stdout",
          "output_type": "stream",
          "text": [
            "Enter a message to copy: hello world\n",
            "Before list: []\n",
            "After list: ['hello world', 'hello world', 'hello world']\n"
          ]
        }
      ],
      "source": [
        "#flowing with data structure\n",
        "\n",
        "def copies(data, lst): #data wo hoga jo user dega and list jisme copies add hogi\n",
        "  for i in range(3): #loop 3 dafa run hogi or\n",
        "    lst.append(data) #isme data add hota rahega\n",
        "\n",
        "def main():\n",
        "  copy_message_by_user = input(\"Enter a message to copy: \")\n",
        "  lst = []\n",
        "  print(f\"Before list: {lst}\")\n",
        "  copies(copy_message_by_user, lst)\n",
        "  print(f\"After list: {lst}\")\n",
        "\n",
        "if __name__ == \"__main__\":\n",
        "  main()\n",
        "\n",
        "\n",
        "\n"
      ]
    },
    {
      "cell_type": "code",
      "execution_count": 29,
      "metadata": {
        "colab": {
          "base_uri": "https://localhost:8080/"
        },
        "id": "OCm9-pOWkmPT",
        "outputId": "90a4b4b9-7a1c-401b-81ba-f2dcfa625aff"
      },
      "outputs": [
        {
          "output_type": "stream",
          "name": "stdout",
          "text": [
            "Entere an element that can be added to the list:2\n",
            "Enter an element that can be added to the list:2\n",
            "Enter an element that can be added to the list:2\n",
            "Enter an element that can be added to the list:A\n",
            "Enter an element that can be added to the list:B\n",
            "Enter an element that can be added to the list:\n",
            "2\n"
          ]
        }
      ],
      "source": [
        "#get first element\n",
        "\n",
        "def get_first_element(lst):\n",
        "  print (lst[0]) # 0 is used to get first value of list\n",
        "\n",
        "def get_lst():\n",
        "  lst = []\n",
        "  element:str = input(\"Entere an element that can be added to the list:\")\n",
        "  while element:\n",
        "    lst.append(element)\n",
        "    element = input(\"Enter an element that can be added to the list:\")\n",
        "  return lst\n",
        "\n",
        "def main():\n",
        "  lst = get_lst()\n",
        "  get_first_element(lst)\n",
        "\n",
        "if __name__ == \"__main__\":\n",
        "  main()\n"
      ]
    },
    {
      "cell_type": "code",
      "execution_count": 28,
      "metadata": {
        "colab": {
          "base_uri": "https://localhost:8080/"
        },
        "id": "30t0kbZund-J",
        "outputId": "d2d182be-1d0c-4e88-cd2c-3442f1985162"
      },
      "outputs": [
        {
          "output_type": "stream",
          "name": "stdout",
          "text": [
            "Enter an element that can be added to the list:a\n",
            "Enter an element that can be added to the list:a\n",
            "Enter an element that can be added to the list:a\n",
            "Enter an element that can be added to the list:\n",
            "a\n"
          ]
        }
      ],
      "source": [
        "#Get last element\n",
        "\n",
        "def get_last_element(lst):\n",
        "  print(lst[-1]) #-1 is used for get last element of list\n",
        "\n",
        "def get_from_list():\n",
        "  lst = []\n",
        "  element:str = input(\"Enter an element that can be added to the list:\")\n",
        "  while element: #jb tak user ka input ek empty nh hojata\n",
        "    lst.append(element)\n",
        "    element = input(\"Enter an element that can be added to the list:\")\n",
        "  return lst\n",
        "\n",
        "def main():\n",
        "  lst = get_from_list()\n",
        "  get_last_element(lst)\n",
        "\n",
        "if __name__ == \"__main__\":\n",
        "  main()\n",
        "\n",
        "\n"
      ]
    },
    {
      "cell_type": "code",
      "source": [
        "#get list\n",
        "\n",
        "def main():\n",
        "  list = []\n",
        "  gettingvalue = input(\"Enter a value to add to the list: \")\n",
        "  while gettingvalue:\n",
        "    list.append(gettingvalue)\n",
        "    gettingvalue = input(\"Enter a value to add to the list: \")\n",
        "  print(f\"Here is the list: {list}\")\n",
        "\n",
        "if __name__ == \"__main__\":\n",
        "  main()\n",
        "\n"
      ],
      "metadata": {
        "colab": {
          "base_uri": "https://localhost:8080/"
        },
        "id": "hIdFlOPzq-4y",
        "outputId": "053633f2-096c-4647-c389-d663a318aa40"
      },
      "execution_count": 1,
      "outputs": [
        {
          "output_type": "stream",
          "name": "stdout",
          "text": [
            "Enter a value to add to the list: Kohli\n",
            "Enter a value to add to the list: Babar\n",
            "Enter a value to add to the list: Axar\n",
            "Enter a value to add to the list: \n",
            "['Kohli', 'Babar', 'Axar']\n"
          ]
        }
      ]
    },
    {
      "cell_type": "code",
      "source": [
        "#shorten\n",
        "\n",
        "def shorten(lst):\n",
        "  max_length:int = 3\n",
        "  while len(lst) > max_length:\n",
        "    last_element = lst.pop() # to remove last element from list\n",
        "    print(last_element)\n",
        "\n",
        "def get_lst():\n",
        "  lst = []\n",
        "  element:str = input(\"Enter an element that can be added to the list:\")\n",
        "  while element:\n",
        "    lst.append(element)\n",
        "    element = input(\"Enter an element that can be added to the list:\")\n",
        "  return lst\n",
        "\n",
        "def main():\n",
        "  lst= get_lst()\n",
        "  shorten(lst)\n",
        "\n",
        "if __name__ == \"__main__\":\n",
        "  main()\n"
      ],
      "metadata": {
        "colab": {
          "base_uri": "https://localhost:8080/"
        },
        "id": "lJbaWC5zm4mp",
        "outputId": "ff691b11-4232-4986-d660-39bf238c25cf"
      },
      "execution_count": 8,
      "outputs": [
        {
          "output_type": "stream",
          "name": "stdout",
          "text": [
            "Enter an element that can be added to the list:HTML\n",
            "Enter an element that can be added to the list:CSS\n",
            "Enter an element that can be added to the list:Tailwind Css\n",
            "Enter an element that can be added to the list:Typescript\n",
            "Enter an element that can be added to the list:Python\n",
            "Enter an element that can be added to the list:\n",
            "Python\n",
            "Typescript\n"
          ]
        }
      ]
    }
  ],
  "metadata": {
    "colab": {
      "provenance": [],
      "authorship_tag": "ABX9TyOZGb5uTDevJpUT6b9jfFo9",
      "include_colab_link": true
    },
    "kernelspec": {
      "display_name": "Python 3",
      "name": "python3"
    },
    "language_info": {
      "name": "python"
    }
  },
  "nbformat": 4,
  "nbformat_minor": 0
}