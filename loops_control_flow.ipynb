{
  "nbformat": 4,
  "nbformat_minor": 0,
  "metadata": {
    "colab": {
      "provenance": [],
      "authorship_tag": "ABX9TyNqH1G8UkVC9WRO0Z6GoWKY",
      "include_colab_link": true
    },
    "kernelspec": {
      "name": "python3",
      "display_name": "Python 3"
    },
    "language_info": {
      "name": "python"
    }
  },
  "cells": [
    {
      "cell_type": "markdown",
      "metadata": {
        "id": "view-in-github",
        "colab_type": "text"
      },
      "source": [
        "<a href=\"https://colab.research.google.com/github/ahsanzaidi827/assignment4-python/blob/main/loops_control_flow.ipynb\" target=\"_parent\"><img src=\"https://colab.research.google.com/assets/colab-badge.svg\" alt=\"Open In Colab\"/></a>"
      ]
    },
    {
      "cell_type": "code",
      "execution_count": 7,
      "metadata": {
        "colab": {
          "base_uri": "https://localhost:8080/"
        },
        "id": "t2RFnHYPneOb",
        "outputId": "902250ae-21df-47eb-c10b-9307e2c7bc2c"
      },
      "outputs": [
        {
          "output_type": "stream",
          "name": "stdout",
          "text": [
            "I am thinking of a number between 1 and 99...\n",
            "Enter a guess: 23\n",
            "Your guess is too low\n",
            "\n",
            "Enter a new guess: 45\n",
            "Your guess is too low\n",
            "\n",
            "Enter a new guess: 88\n",
            "Your guess is too low\n",
            "\n",
            "Enter a new guess: 90\n",
            "Congrats! The number was: 90\n"
          ]
        }
      ],
      "source": [
        "import random\n",
        "\n",
        "def main():\n",
        "    # Generate the secret number at random!\n",
        "    secret_number = random.randint(1, 99)\n",
        "\n",
        "    print(\"I am thinking of a number between 1 and 99...\")\n",
        "\n",
        "    guess = int(input(\"Enter a guess: \"))\n",
        "\n",
        "    # True if guess is not equal to secret number\n",
        "    while guess != secret_number:\n",
        "        if guess < secret_number:\n",
        "            print(\"Your guess is too low\")\n",
        "        else:\n",
        "            print(\"Your guess is too high\")\n",
        "\n",
        "        print()\n",
        "        guess = int(input(\"Enter a new guess: \"))  # Get a new guess from the user\n",
        "\n",
        "    print(\"Congrats! The number was: \" + str(secret_number))\n",
        "\n",
        "if __name__ == '__main__':\n",
        "    main()"
      ]
    },
    {
      "cell_type": "code",
      "source": [
        "#fibonacci\n",
        "\n",
        "MAX_TERM_VALUE : int = 10000\n",
        "\n",
        "def main():\n",
        "    a = 0\n",
        "    b = 1\n",
        "    while a <= MAX_TERM_VALUE:\n",
        "        print(a)\n",
        "        term_after_next = a + b\n",
        "        a = b\n",
        "        b = term_after_next\n",
        "\n",
        "if __name__ == '__main__':\n",
        "    main()\n",
        "\n",
        "\n",
        "\n",
        "\n"
      ],
      "metadata": {
        "id": "8K2gczAIrCaX",
        "outputId": "b450769f-488d-493c-afb5-6b56fcbca5a1",
        "colab": {
          "base_uri": "https://localhost:8080/"
        }
      },
      "execution_count": 8,
      "outputs": [
        {
          "output_type": "stream",
          "name": "stdout",
          "text": [
            "0\n",
            "1\n",
            "1\n",
            "2\n",
            "3\n",
            "5\n",
            "8\n",
            "13\n",
            "21\n",
            "34\n",
            "55\n",
            "89\n",
            "144\n",
            "233\n",
            "377\n",
            "610\n",
            "987\n",
            "1597\n",
            "2584\n",
            "4181\n",
            "6765\n"
          ]
        }
      ]
    },
    {
      "cell_type": "code",
      "source": [
        "# prints events\n",
        "\n",
        "def main():\n",
        "    for i in range(20):\n",
        "        print(i * 2)\n",
        "\n",
        "if __name__ == \"__main__\":\n",
        "    main()"
      ],
      "metadata": {
        "id": "XwO7cFD1vV3g",
        "outputId": "6e9c4ce3-f6bf-4ba4-ed62-cdb34bf5f8e0",
        "colab": {
          "base_uri": "https://localhost:8080/"
        }
      },
      "execution_count": 9,
      "outputs": [
        {
          "output_type": "stream",
          "name": "stdout",
          "text": [
            "0\n",
            "2\n",
            "4\n",
            "6\n",
            "8\n",
            "10\n",
            "12\n",
            "14\n",
            "16\n",
            "18\n",
            "20\n",
            "22\n",
            "24\n",
            "26\n",
            "28\n",
            "30\n",
            "32\n",
            "34\n",
            "36\n",
            "38\n"
          ]
        }
      ]
    },
    {
      "cell_type": "code",
      "source": [
        "# wholesome machine\n",
        "\n",
        "affirmation = \"I am capable of doing anything I put my mind too\"\n",
        "\n",
        "def main():\n",
        "\n",
        "  while True:\n",
        "    user_input = input(f\"Please type the following affirmation: {affirmation}\")\n",
        "\n",
        "    if user_input == affirmation:\n",
        "      print(\"Great! Affirmation match\")\n",
        "      break\n",
        "    else:\n",
        "      print(\"Sorry, try affirmation again\")\n",
        "\n",
        "if __name__ == \"__main__\":\n",
        "  main()\n"
      ],
      "metadata": {
        "id": "YKsj07dixqPx",
        "outputId": "0e58e992-de2a-4f08-9d0e-a1133a1f7d50",
        "colab": {
          "base_uri": "https://localhost:8080/"
        }
      },
      "execution_count": 12,
      "outputs": [
        {
          "output_type": "stream",
          "name": "stdout",
          "text": [
            "Please type the following affirmation: I am capable of doing anything I put my mind tooI am not capable\n",
            "Sorry, try affirmation again\n",
            "Please type the following affirmation: I am capable of doing anything I put my mind tooI am capable of doing anything I put my mind too\n",
            "Great! Affirmation match\n"
          ]
        }
      ]
    },
    {
      "cell_type": "code",
      "source": [
        "#liftoff\n",
        "\n",
        "def main():\n",
        "  for i in range(10, 0, -1):\n",
        "    print(i)\n",
        "  print(\"Liftoff!\")\n",
        "\n",
        "if __name__ == \"__main__\":\n",
        "  main()"
      ],
      "metadata": {
        "id": "C1MJcYUh09MH",
        "outputId": "f4d56b51-d999-46e2-8fcc-680a845eeeee",
        "colab": {
          "base_uri": "https://localhost:8080/"
        }
      },
      "execution_count": 13,
      "outputs": [
        {
          "output_type": "stream",
          "name": "stdout",
          "text": [
            "10\n",
            "9\n",
            "8\n",
            "7\n",
            "6\n",
            "5\n",
            "4\n",
            "3\n",
            "2\n",
            "1\n",
            "Liftoff!\n"
          ]
        }
      ]
    },
    {
      "cell_type": "code",
      "source": [
        "#double it\n",
        "\n",
        "def main():\n",
        "\n",
        "  user_value = int(input(\"Please enter a value\"))\n",
        "\n",
        "  while user_value<100:\n",
        "    user_value = user_value * 2 #updating value\n",
        "\n",
        "    print(user_value)\n",
        "\n",
        "if __name__ == \"__main__\":\n",
        "  main()"
      ],
      "metadata": {
        "id": "xxcXeYTp13SW",
        "outputId": "8f20a422-ee2b-49e0-ee36-6052e5139316",
        "colab": {
          "base_uri": "https://localhost:8080/"
        }
      },
      "execution_count": 14,
      "outputs": [
        {
          "output_type": "stream",
          "name": "stdout",
          "text": [
            "Please enter a value2\n",
            "4\n",
            "8\n",
            "16\n",
            "32\n",
            "64\n",
            "128\n"
          ]
        }
      ]
    }
  ]
}